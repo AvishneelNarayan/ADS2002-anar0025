{
  "nbformat": 4,
  "nbformat_minor": 0,
  "metadata": {
    "colab": {
      "provenance": [],
      "authorship_tag": "ABX9TyP9PNwc7vHQJlimZX1gZlFI",
      "include_colab_link": true
    },
    "kernelspec": {
      "name": "python3",
      "display_name": "Python 3"
    },
    "language_info": {
      "name": "python"
    }
  },
  "cells": [
    {
      "cell_type": "markdown",
      "metadata": {
        "id": "view-in-github",
        "colab_type": "text"
      },
      "source": [
        "<a href=\"https://colab.research.google.com/github/AvishneelNarayan/ADS2002-anar0025/blob/main/Weekly_Portfolio_Mid_Sem_Submission.ipynb\" target=\"_parent\"><img src=\"https://colab.research.google.com/assets/colab-badge.svg\" alt=\"Open In Colab\"/></a>"
      ]
    },
    {
      "cell_type": "markdown",
      "source": [
        "# Week 1 Portfolio Entry: Introductions and GitHub\n",
        "\n",
        "#### Situation\n",
        "This week marked the start of my Applied Data Science class. Initially, finding the classroom was somewhat difficult, and the room setup was different from what I expected for a data science course. During the first lecture, we were introduced to the teaching team. I recognized Dr. Han Phan, who was also my TA last semester, which provided a sense of familiarity. Dr. Vered played a key role in helping us set up GitHub, a platform that will be crucial for managing our projects. Many students, including myself, were unfamiliar with GitHub, and her detailed explanations helped us understand its functionality. In addition, we expressed our preferences for the projects we wanted to work on, and the topics for our essays were also selected.\n",
        "\n",
        "####Affect\n",
        "I felt a mix of excitement and uncertainty this week. The initial confusion with the classroom and unexpected room setup was a bit unsettling, but seeing a familiar face in Dr. Phan helped me feel more at ease. The introduction to GitHub was somewhat overwhelming at first, as I had little experience with it. However, Dr. Vered’s explanation was clear and thorough, making me feel more confident about using the platform. By the end of the week, I felt relieved that the foundational tasks were completed and I had a better understanding of what lies ahead.\n",
        "\n",
        "####Interpretation\n",
        "This week’s experience reinforced the importance of technical tools like GitHub in the data science field. Although I had limited experience with it, I now realize how essential it is for project collaboration and version control. It also highlighted the need for adaptability—whether it’s navigating unfamiliar physical spaces or learning new tools. Moreover, the project and essay topic selections gave me a clearer picture of the structure and expectations for the course, allowing me to start thinking about my approach to the upcoming assignments.\n",
        "\n",
        "####Decision\n",
        "Moving forward, I plan to deepen my knowledge of GitHub outside of class to ensure I can use it efficiently throughout the semester. I will also take more time to familiarize myself with the class logistics, including room locations and course expectations, to avoid future disruptions. Additionally, I will start researching potential project ideas and essay topics early, so I can make informed choices and manage my workload effectively.\n",
        "\n"
      ],
      "metadata": {
        "id": "1BnVP2KsjRKq"
      }
    },
    {
      "cell_type": "markdown",
      "source": [
        "# Week 2: Beginning the Catheter Placement Project.\n",
        "\n",
        "####Situation\n",
        "This week, I was assigned to my chosen project on catheter placement and placed into a team. Although the group consisted of new faces, everyone seemed eager to collaborate and easy to work with. After our class lecture, we were given time to work with our groups. The first task we undertook was setting up a shared GitHub repository for the project, following the instructions provided in the previous week. We then proceeded to download the necessary data. The dataset was extensive and contained a variety of elements, including a significant number of images, which presented a new challenge for us. It became apparent that we would need to use image processing techniques to efficiently manage and analyze the data. Due to the size of the data, we decided to meet up later and continue working on it separately. We were also introduced to Google Colab and taught how to use it for collaborative work.\n",
        "\n",
        "####Affect\n",
        "I felt a mix of anticipation and challenge this week. Working with a new team brought some uncertainty, but the positive attitude and enthusiasm of the group reassured me. Setting up the GitHub repository was straightforward, thanks to the instructions from the previous week, and it was rewarding to see our project take its first steps. However, the sheer size and complexity of the dataset, particularly the images, introduced a layer of difficulty that I hadn’t anticipated. This realization initially felt daunting, but it also made me eager to learn more about image processing. By the end of the week, I felt motivated and determined to tackle this new challenge.\n",
        "\n",
        "####Interpretation\n",
        "This week highlighted the importance of teamwork and the necessity of learning new technical skills. While I had some familiarity with data analysis, handling large datasets, especially those involving images, is a new experience for me. This project will require me to expand my understanding of image processing systems and their applications in data science. Additionally, the introduction to Google Colab was timely, as it will allow our team to work together efficiently even when we aren’t in the same physical space. The collaborative tools we’ve been introduced to—GitHub and Colab—are essential for managing complex projects and will likely play a significant role throughout the semester.\n",
        "\n",
        "####Decision\n",
        "In the coming weeks, I plan to focus on improving my skills in image processing, as this will be critical for the success of our project. I will also take time to familiarize myself with Google Colab so that I can contribute effectively to group work. To ensure smooth collaboration, I will actively communicate with my team and suggest regular check-ins to track our progress. I recognize the importance of staying organized and ahead of deadlines, especially given the size and complexity of the dataset we are working with."
      ],
      "metadata": {
        "id": "HnCbXBmqmn2b"
      }
    },
    {
      "cell_type": "markdown",
      "source": [
        "#Week 3: Team Expansion and Task Distribution\n",
        "\n",
        "####Situation\n",
        "This week, there were some new faces in class, and we were informed that a few students had transferred from the Thursday class. One of the new students joined our group, which required us to bring him up to speed on the progress we had made so far. Although our progress was still in the early stages, we were able to quickly brief him on the project, which helped integrate him into the group. Afterward, we discussed how to divide the tasks efficiently. Two members took on the responsibility of performing exploratory data analysis (EDA) and data cleaning, while the rest of us waited for them to complete this phase so we could begin other aspects of the project. I focused on gathering resources and ideas to support their work and contribute to the next steps of the project.\n",
        "\n",
        "####Affect\n",
        "This week, I felt a sense of responsibility as we worked to integrate a new member into the group. While it took some time to get him familiarized with the project, I felt reassured by the team’s ability to work together and adjust quickly to changes. The decision to split tasks and assign responsibilities based on our skills and preferences made me feel more organized and confident about the project's direction. Focusing on resource gathering was a new challenge, but it gave me a sense of purpose, knowing that the ideas and materials I provided would contribute to the team's progress.\n",
        "\n",
        "####Interpretation\n",
        "This week’s experience reinforced the value of adaptability and communication within a team. Bringing a new member up to speed emphasized the importance of clear and efficient communication, especially when working on collaborative projects. Additionally, the decision to split tasks early on helped us streamline our efforts and ensure that everyone had a role to play. By focusing on gathering resources and ideas, I contributed indirectly to the technical aspects of the project, highlighting that teamwork can involve both direct and supportive roles. This approach will be useful in future projects, where clear division of tasks and early planning will ensure progress even with varying workloads.\n",
        "\n",
        "####Decision\n",
        "Moving forward, I will continue to support the team by gathering relevant materials and ensuring everyone has the resources they need to complete their tasks. Additionally, I will keep open lines of communication, especially with the new member, to ensure that the group remains cohesive and that no one feels left behind. I also plan to review the EDA and data cleaning process to stay updated on the project’s technical aspects, so I can contribute effectively once those phases are complete."
      ],
      "metadata": {
        "id": "lp238XFDmoDA"
      }
    },
    {
      "cell_type": "markdown",
      "source": [
        "#Week 4: Health Setback and Project Continuation\n",
        "\n",
        "####Situation\n",
        "This week, I was unfortunately unwell, which prevented me from attending class or contributing much to the project. Due to my absence, I had limited involvement in the week’s progress. However, I was informed by my group that the two members working on exploratory data analysis (EDA) were nearing completion of this phase. As a result, the rest of us were awaiting their final output before determining how to proceed with the next steps of the project.\n",
        "\n",
        "####Affect\n",
        "Missing class and being unable to work on the project this week was somewhat frustrating. I felt disconnected from the group’s progress and concerned that I might fall behind. However, knowing that the EDA phase was almost complete gave me some reassurance that I would be able to contribute again once I was feeling better. I also appreciated the team's efforts to keep me updated on their progress, which helped ease my anxiety about being absent.\n",
        "\n",
        "####Interpretation\n",
        "This week’s experience highlighted the importance of health and self-care in maintaining academic performance. While I couldn’t contribute much, I realized that it is essential to trust the team and allow others to carry the project forward during times when I am unable to participate. Fortunately, the strong foundation we had built in previous weeks ensured that progress could continue smoothly. This also underscored the significance of dividing tasks within a team, allowing work to progress even when individual members are unavailable.\n",
        "\n",
        "####Decision\n",
        "Looking ahead, I plan to catch up on the project’s progress once I recover and resume my involvement in the next steps. I will communicate with the team to ensure I understand what has been done during my absence and find ways to contribute effectively moving forward. Additionally, I will make sure to prioritize my health to prevent future disruptions and stay on top of the project’s requirements."
      ],
      "metadata": {
        "id": "9MXyNQ1RmoNq"
      }
    },
    {
      "cell_type": "markdown",
      "source": [
        "#Week 5: Progress on Image Analysis and Continued Coordination\n",
        "\n",
        "####Situation\n",
        "This week, our team completed the exploratory data analysis (EDA) phase, and we moved forward with planning the next steps, particularly focusing on the image analysis aspect of the project. The task of handling the catheter paths in the X-ray images was assigned to two new team members, who began working on extracting and displaying these paths. Unfortunately, I was still unwell and unable to attend class again this week. Despite this, I was able to coordinate with my group remotely through a group chat, staying informed about their progress and contributing as best as I could from a distance.\n",
        "\n",
        "####Affect\n",
        "Missing another week due to illness made me feel more disconnected from the hands-on work, but the ability to stay in touch with the team via group chat provided some relief. I was grateful for the group’s willingness to keep me updated, and I felt reassured knowing that they were making progress on the image analysis. Although I couldn't physically participate, the group chat allowed me to maintain a degree of involvement, which eased my concerns about falling behind.\n",
        "\n",
        "####Interpretation\n",
        "This week reinforced the importance of communication within a team, especially when some members, like myself, are unable to attend in person. The use of remote tools such as group chats proved to be an effective way of coordinating our efforts and ensuring that I remained connected to the project's progress. Additionally, the transition from EDA to working with images highlighted the growing complexity of the project. This shift in focus required us to rely on specialized skills within the group, and I recognized the need for ongoing learning, particularly in image analysis, which I hope to catch up on once I recover.\n",
        "\n",
        "####Decision\n",
        "Moving forward, I plan to catch up on the team’s work with the images once I am back to full health. I will review the steps the team has taken to process the catheter paths and seek out resources on image analysis to better understand this aspect of the project. Additionally, I will continue to stay in close communication with my group to ensure that I remain informed about their progress, and contribute more actively when I am able to."
      ],
      "metadata": {
        "id": "eVc30F1CmpoS"
      }
    },
    {
      "cell_type": "markdown",
      "source": [
        "#Week 6: Preparing for the Mock Presentation and Starting Data Modeling\n",
        "\n",
        "####Situation\n",
        "This week, our group decided to begin working on the mock presentation, which is due next week. The purpose of this presentation is to showcase our progress and outline the approach we will take moving forward. In addition, it was decided that another member and I would handle the data modeling aspect of the project. After some discussion, we agreed to use convolutional neural networks (CNNs) for modeling the catheter paths in the images. While this is an exciting direction, we still have a lot of research to do on this topic to ensure that we are properly equipped to implement it effectively. We plan to dive into this research in the coming days.\n",
        "\n",
        "####Affect\n",
        "This week brought a mix of excitement and responsibility. Being assigned to the data modeling section, particularly with convolutional neural networks, made me feel both eager and slightly apprehensive, as this is a complex topic. The decision to use CNNs feels appropriate for the image analysis, but it also means we need to quickly build our knowledge and expertise in this area. The approaching mock presentation adds some pressure, but overall, I feel motivated to contribute meaningfully to both the presentation and the modeling phase.\n",
        "\n",
        "####Interpretation\n",
        "This week emphasized the importance of planning and preparation. With the mock presentation approaching, we needed to carefully organize our thoughts and ensure we had a clear understanding of our progress and future steps. The decision to use CNNs for data modeling highlighted the advanced techniques required in data science projects, especially those involving image analysis. Although I’m not yet fully comfortable with CNNs, this task provides an opportunity to develop new skills and deepen my understanding of machine learning techniques.\n",
        "\n",
        "####Decision\n",
        "In preparation for the mock presentation, I plan to collaborate closely with my group to ensure our content is well-organized and coherent. Regarding data modeling, I will dedicate time to researching convolutional neural networks, with a focus on their application to image processing tasks. This research will be essential in guiding our work as we begin the modeling phase. I will also make sure to maintain clear communication with my partner in data modeling to ensure we are aligned in our approach."
      ],
      "metadata": {
        "id": "G4RfXBxzmpzQ"
      }
    },
    {
      "cell_type": "markdown",
      "source": [
        "#Week 7: Mock Presentation and Addressing Data Challenges\n",
        "\n",
        "####Situation\n",
        "This week, we delivered our mock presentation, which I believe went quite well compared to other groups. Our team was able to clearly present our progress and outline the next steps for the project. However, after conferring with other groups, we encountered a significant issue—we realized that our group did not have access to the complete dataset. As a result, we were advised to transfer our work to MASSIVE Strudel, a software tool that seems essential for accessing and processing the full dataset. Unfortunately, I am not yet familiar with how this tool works, so I have not been able to contribute much since this transition.\n",
        "\n",
        "####Affect\n",
        "While I felt proud of our performance during the mock presentation, the realization that we lacked the full dataset was frustrating. It felt like a significant setback, especially after we had made good progress in other areas of the project. The introduction of MASSIVE Strudel adds another layer of complexity, and I felt a bit overwhelmed by the need to learn a new tool on top of our current workload. However, I also recognize that this is a necessary step for us to move forward and ensure the success of our project.\n",
        "\n",
        "####Interpretation\n",
        "This week served as a reminder of the challenges that can arise when working on complex data science projects. The discovery that we lacked access to the full dataset highlighted the importance of thorough data management and the need for robust tools like MASSIVE Strudel. While this new tool adds complexity to the project, it also presents an opportunity to learn a valuable software platform that could be useful in future projects. Additionally, this experience reinforced the importance of staying adaptable and open to changes, especially when unforeseen issues arise.\n",
        "\n",
        "####Decision\n",
        "Moving forward, I plan to dedicate time to learning MASSIVE Strudel so that I can contribute effectively to the project once the data transfer is complete. I will seek help from my group members and available resources to become familiar with the software. In the meantime, I will continue to collaborate with the team and support the project’s overall progress. I am also determined to ensure that we maintain momentum despite this setback and successfully complete the data modeling and image analysis tasks."
      ],
      "metadata": {
        "id": "9XZWasC6xpho"
      }
    }
  ]
}