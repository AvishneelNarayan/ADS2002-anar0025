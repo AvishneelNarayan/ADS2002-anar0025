{
 "cells": [
  {
   "cell_type": "markdown",
   "metadata": {},
   "source": [
    "## Perceptron Activity\n",
    "\n",
    "In this activity, we are going to try to train a perceptron model to predict the sex of penguins using information about their flipper length and body mass. Instead of using the custom function from the class notebook, this time we will use the Perceptron implementation from ``sklearn``. \n",
    "\n",
    "First we load the necessary modules.\n"
   ]
  },
  {
   "cell_type": "code",
   "execution_count": 1,
   "metadata": {},
   "outputs": [],
   "source": [
    "import numpy as np\n",
    "import pandas as pd\n",
    "import seaborn as sns\n",
    "from sklearn.model_selection import train_test_split\n",
    "from sklearn.metrics import accuracy_score\n",
    "from sklearn.preprocessing import LabelEncoder\n",
    "from sklearn.linear_model import Perceptron\n"
   ]
  },
  {
   "cell_type": "code",
   "execution_count": 2,
   "metadata": {},
   "outputs": [],
   "source": [
    "# Load the Palmer's Penguin dataset\n",
    "penguins = sns.load_dataset(\"penguins\")\n"
   ]
  },
  {
   "cell_type": "markdown",
   "metadata": {},
   "source": [
    "Implement a perceptron model with these data:\n",
    "\n",
    "1. Check the data for NAs\n",
    "2. Select the features and outcome. Use `sex` as the outcome, `flipper_length` and `body_mass` as the features\n",
    "3. Encode the outcome labels as intergers using `LabelEncoder()`. See [here](https://scikit-learn.org/stable/modules/generated/sklearn.preprocessing.LabelEncoder.html)\n",
    "4. Split your data into training and testing, train a perceptron model using the `Perceptron` function from `sklearn` (see [here](https://scikit-learn.org/stable/modules/generated/sklearn.linear_model.Perceptron.html) for info). \n",
    "5. Finally, print the accuracy of the model on the test set.\n"
   ]
  },
  {
   "cell_type": "code",
   "execution_count": null,
   "metadata": {},
   "outputs": [],
   "source": []
  }
 ],
 "metadata": {
  "kernelspec": {
   "display_name": "Python 3",
   "language": "python",
   "name": "python3"
  },
  "language_info": {
   "codemirror_mode": {
    "name": "ipython",
    "version": 3
   },
   "file_extension": ".py",
   "mimetype": "text/x-python",
   "name": "python",
   "nbconvert_exporter": "python",
   "pygments_lexer": "ipython3",
   "version": "3.8.5"
  }
 },
 "nbformat": 4,
 "nbformat_minor": 4
}
